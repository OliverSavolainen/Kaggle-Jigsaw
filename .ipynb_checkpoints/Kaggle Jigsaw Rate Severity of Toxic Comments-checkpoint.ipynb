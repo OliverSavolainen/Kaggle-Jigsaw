{
 "cells": [
  {
   "cell_type": "markdown",
   "id": "0865cee0",
   "metadata": {
    "papermill": {
     "duration": 0.028943,
     "end_time": "2022-02-07T20:58:37.921070",
     "exception": false,
     "start_time": "2022-02-07T20:58:37.892127",
     "status": "completed"
    },
    "tags": []
   },
   "source": [
    "# Jigsaw Rate Severity of Toxic Comments"
   ]
  },
  {
   "cell_type": "code",
   "execution_count": 1,
   "id": "ab158102",
   "metadata": {
    "execution": {
     "iopub.execute_input": "2022-02-07T20:58:37.984078Z",
     "iopub.status.busy": "2022-02-07T20:58:37.982256Z",
     "iopub.status.idle": "2022-02-07T20:58:39.836848Z",
     "shell.execute_reply": "2022-02-07T20:58:39.836096Z",
     "shell.execute_reply.started": "2022-02-07T20:29:38.796172Z"
    },
    "papermill": {
     "duration": 1.887366,
     "end_time": "2022-02-07T20:58:39.837031",
     "exception": false,
     "start_time": "2022-02-07T20:58:37.949665",
     "status": "completed"
    },
    "tags": []
   },
   "outputs": [],
   "source": [
    "#https://www.kaggle.com/c/jigsaw-toxic-severity-rating\n",
    "import pandas as pd \n",
    "from sklearn.model_selection import train_test_split\n",
    "train = pd.read_csv('validation_data.csv') "
   ]
  },
  {
   "cell_type": "code",
   "execution_count": 2,
   "id": "1bab8157",
   "metadata": {
    "execution": {
     "iopub.execute_input": "2022-02-07T20:58:39.906386Z",
     "iopub.status.busy": "2022-02-07T20:58:39.905432Z",
     "iopub.status.idle": "2022-02-07T20:58:39.915914Z",
     "shell.execute_reply": "2022-02-07T20:58:39.916480Z",
     "shell.execute_reply.started": "2022-02-07T20:29:39.596902Z"
    },
    "papermill": {
     "duration": 0.049552,
     "end_time": "2022-02-07T20:58:39.916666",
     "exception": false,
     "start_time": "2022-02-07T20:58:39.867114",
     "status": "completed"
    },
    "tags": []
   },
   "outputs": [],
   "source": [
    "#Put sentences classified more or less toxic in separate dataframes and then combine them into one\n",
    "train1 = pd.DataFrame(train['less_toxic'])\n",
    "train1.columns = ['sentence']\n",
    "train1['is_toxic'] = 0\n",
    "train2 = pd.DataFrame(train['more_toxic'])\n",
    "train2.columns = ['sentence']\n",
    "train2['is_toxic'] = 1\n",
    "train3 = pd.concat([train1,train2],ignore_index=True)"
   ]
  },
  {
   "cell_type": "code",
   "execution_count": 3,
   "id": "e1af0ddc",
   "metadata": {
    "execution": {
     "iopub.execute_input": "2022-02-07T20:58:39.977119Z",
     "iopub.status.busy": "2022-02-07T20:58:39.976039Z",
     "iopub.status.idle": "2022-02-07T20:58:39.994357Z",
     "shell.execute_reply": "2022-02-07T20:58:39.994902Z",
     "shell.execute_reply.started": "2022-02-07T20:29:39.609514Z"
    },
    "papermill": {
     "duration": 0.050122,
     "end_time": "2022-02-07T20:58:39.995077",
     "exception": false,
     "start_time": "2022-02-07T20:58:39.944955",
     "status": "completed"
    },
    "tags": []
   },
   "outputs": [
    {
     "data": {
      "text/html": [
       "<div>\n",
       "<style scoped>\n",
       "    .dataframe tbody tr th:only-of-type {\n",
       "        vertical-align: middle;\n",
       "    }\n",
       "\n",
       "    .dataframe tbody tr th {\n",
       "        vertical-align: top;\n",
       "    }\n",
       "\n",
       "    .dataframe thead th {\n",
       "        text-align: right;\n",
       "    }\n",
       "</style>\n",
       "<table border=\"1\" class=\"dataframe\">\n",
       "  <thead>\n",
       "    <tr style=\"text-align: right;\">\n",
       "      <th></th>\n",
       "      <th>sentence</th>\n",
       "      <th>is_toxic</th>\n",
       "    </tr>\n",
       "  </thead>\n",
       "  <tbody>\n",
       "    <tr>\n",
       "      <th>0</th>\n",
       "      <td>This article sucks \\n\\nwoo woo wooooooo</td>\n",
       "      <td>0</td>\n",
       "    </tr>\n",
       "    <tr>\n",
       "      <th>1</th>\n",
       "      <td>\"And yes, people should recognize that but the...</td>\n",
       "      <td>0</td>\n",
       "    </tr>\n",
       "    <tr>\n",
       "      <th>2</th>\n",
       "      <td>Western Media?\\n\\nYup, because every crime in...</td>\n",
       "      <td>0</td>\n",
       "    </tr>\n",
       "    <tr>\n",
       "      <th>3</th>\n",
       "      <td>And you removed it! You numbskull! I don't car...</td>\n",
       "      <td>0</td>\n",
       "    </tr>\n",
       "    <tr>\n",
       "      <th>4</th>\n",
       "      <td>smelly vagina \\n\\nBluerasberry why don't you ...</td>\n",
       "      <td>0</td>\n",
       "    </tr>\n",
       "    <tr>\n",
       "      <th>...</th>\n",
       "      <td>...</td>\n",
       "      <td>...</td>\n",
       "    </tr>\n",
       "    <tr>\n",
       "      <th>60211</th>\n",
       "      <td>get out my large penis</td>\n",
       "      <td>1</td>\n",
       "    </tr>\n",
       "    <tr>\n",
       "      <th>60212</th>\n",
       "      <td>get out my large penis</td>\n",
       "      <td>1</td>\n",
       "    </tr>\n",
       "    <tr>\n",
       "      <th>60213</th>\n",
       "      <td>Piss off you slant eyed-gook</td>\n",
       "      <td>1</td>\n",
       "    </tr>\n",
       "    <tr>\n",
       "      <th>60214</th>\n",
       "      <td>Piss off you slant eyed-gook</td>\n",
       "      <td>1</td>\n",
       "    </tr>\n",
       "    <tr>\n",
       "      <th>60215</th>\n",
       "      <td>Piss off you slant eyed-gook</td>\n",
       "      <td>1</td>\n",
       "    </tr>\n",
       "  </tbody>\n",
       "</table>\n",
       "<p>60216 rows × 2 columns</p>\n",
       "</div>"
      ],
      "text/plain": [
       "                                                sentence  is_toxic\n",
       "0                This article sucks \\n\\nwoo woo wooooooo         0\n",
       "1      \"And yes, people should recognize that but the...         0\n",
       "2       Western Media?\\n\\nYup, because every crime in...         0\n",
       "3      And you removed it! You numbskull! I don't car...         0\n",
       "4       smelly vagina \\n\\nBluerasberry why don't you ...         0\n",
       "...                                                  ...       ...\n",
       "60211                             get out my large penis         1\n",
       "60212                             get out my large penis         1\n",
       "60213                       Piss off you slant eyed-gook         1\n",
       "60214                       Piss off you slant eyed-gook         1\n",
       "60215                       Piss off you slant eyed-gook         1\n",
       "\n",
       "[60216 rows x 2 columns]"
      ]
     },
     "execution_count": 3,
     "metadata": {},
     "output_type": "execute_result"
    }
   ],
   "source": [
    "train3"
   ]
  },
  {
   "cell_type": "code",
   "execution_count": 4,
   "id": "57c242ac",
   "metadata": {
    "execution": {
     "iopub.execute_input": "2022-02-07T20:58:40.160897Z",
     "iopub.status.busy": "2022-02-07T20:58:40.159855Z",
     "iopub.status.idle": "2022-02-07T20:58:40.185117Z",
     "shell.execute_reply": "2022-02-07T20:58:40.185669Z",
     "shell.execute_reply.started": "2022-02-07T20:29:39.664465Z"
    },
    "papermill": {
     "duration": 0.058743,
     "end_time": "2022-02-07T20:58:40.185860",
     "exception": false,
     "start_time": "2022-02-07T20:58:40.127117",
     "status": "completed"
    },
    "tags": []
   },
   "outputs": [],
   "source": [
    "#Make the actual training df, where there's every different sentence and the value count of it \n",
    "final_train = train3['sentence'].value_counts().rename_axis('sentence').reset_index(name='counts')"
   ]
  },
  {
   "cell_type": "code",
   "execution_count": null,
   "id": "05899cde",
   "metadata": {
    "execution": {
     "iopub.execute_input": "2022-02-07T20:58:40.251974Z",
     "iopub.status.busy": "2022-02-07T20:58:40.250944Z",
     "iopub.status.idle": "2022-02-07T21:01:09.042177Z",
     "shell.execute_reply": "2022-02-07T21:01:09.042717Z",
     "shell.execute_reply.started": "2022-02-07T20:29:39.689198Z"
    },
    "papermill": {
     "duration": 148.827759,
     "end_time": "2022-02-07T21:01:09.042929",
     "exception": false,
     "start_time": "2022-02-07T20:58:40.215170",
     "status": "completed"
    },
    "tags": []
   },
   "outputs": [],
   "source": [
    "def getMean(sentence):\n",
    "    this = train3.loc[train3['sentence'] == sentence]\n",
    "    return sum(this.is_toxic)\n",
    "sumof = final_train.apply(lambda x:getMean(x['sentence']), axis=1, result_type='expand')"
   ]
  },
  {
   "cell_type": "code",
   "execution_count": null,
   "id": "c2b0c05d",
   "metadata": {
    "execution": {
     "iopub.execute_input": "2022-02-07T21:01:09.110970Z",
     "iopub.status.busy": "2022-02-07T21:01:09.110243Z",
     "iopub.status.idle": "2022-02-07T21:01:09.112460Z",
     "shell.execute_reply": "2022-02-07T21:01:09.112999Z",
     "shell.execute_reply.started": "2022-02-07T20:31:53.201990Z"
    },
    "papermill": {
     "duration": 0.039407,
     "end_time": "2022-02-07T21:01:09.113171",
     "exception": false,
     "start_time": "2022-02-07T21:01:09.073764",
     "status": "completed"
    },
    "tags": []
   },
   "outputs": [],
   "source": [
    "#Add the percentage of the sentence being classified more toxic\n",
    "final_train['mean'] = sumof\n",
    "final_train['mean'] = final_train['mean'] / final_train['counts']"
   ]
  },
  {
   "cell_type": "code",
   "execution_count": null,
   "id": "5d369843",
   "metadata": {
    "execution": {
     "iopub.execute_input": "2022-02-07T21:01:09.176272Z",
     "iopub.status.busy": "2022-02-07T21:01:09.175481Z",
     "iopub.status.idle": "2022-02-07T21:01:09.182675Z",
     "shell.execute_reply": "2022-02-07T21:01:09.183159Z",
     "shell.execute_reply.started": "2022-02-07T20:31:53.211151Z"
    },
    "papermill": {
     "duration": 0.040405,
     "end_time": "2022-02-07T21:01:09.183331",
     "exception": false,
     "start_time": "2022-02-07T21:01:09.142926",
     "status": "completed"
    },
    "tags": []
   },
   "outputs": [],
   "source": [
    "final_train.counts.value_counts()"
   ]
  },
  {
   "cell_type": "code",
   "execution_count": null,
   "id": "95383ace",
   "metadata": {
    "execution": {
     "iopub.execute_input": "2022-02-07T21:01:09.318309Z",
     "iopub.status.busy": "2022-02-07T21:01:09.317579Z",
     "iopub.status.idle": "2022-02-07T21:01:09.321591Z",
     "shell.execute_reply": "2022-02-07T21:01:09.321001Z",
     "shell.execute_reply.started": "2022-02-07T20:31:53.236824Z"
    },
    "papermill": {
     "duration": 0.039854,
     "end_time": "2022-02-07T21:01:09.321784",
     "exception": false,
     "start_time": "2022-02-07T21:01:09.281930",
     "status": "completed"
    },
    "tags": []
   },
   "outputs": [],
   "source": [
    "#keep only sentences that occur 3+ times\n",
    "final_train = final_train[final_train.counts > 3]"
   ]
  },
  {
   "cell_type": "code",
   "execution_count": null,
   "id": "be3f3498",
   "metadata": {
    "execution": {
     "iopub.execute_input": "2022-02-07T21:01:09.388198Z",
     "iopub.status.busy": "2022-02-07T21:01:09.387507Z",
     "iopub.status.idle": "2022-02-07T21:01:09.390287Z",
     "shell.execute_reply": "2022-02-07T21:01:09.389776Z",
     "shell.execute_reply.started": "2022-02-07T20:31:53.251061Z"
    },
    "papermill": {
     "duration": 0.038551,
     "end_time": "2022-02-07T21:01:09.390443",
     "exception": false,
     "start_time": "2022-02-07T21:01:09.351892",
     "status": "completed"
    },
    "tags": []
   },
   "outputs": [],
   "source": [
    "final_train.rename(columns={'sentence':'the_original_sentence','counts':'the_counts_of_sentences','mean':'the_percentage_for_the_sentence_being_more_toxic'},inplace=True)"
   ]
  },
  {
   "cell_type": "code",
   "execution_count": null,
   "id": "c4c32725",
   "metadata": {
    "execution": {
     "iopub.execute_input": "2022-02-07T21:01:09.502582Z",
     "iopub.status.busy": "2022-02-07T21:01:09.481746Z",
     "iopub.status.idle": "2022-02-07T21:01:10.248253Z",
     "shell.execute_reply": "2022-02-07T21:01:10.247717Z",
     "shell.execute_reply.started": "2022-02-07T20:31:53.260403Z"
    },
    "papermill": {
     "duration": 0.826713,
     "end_time": "2022-02-07T21:01:10.248411",
     "exception": false,
     "start_time": "2022-02-07T21:01:09.421698",
     "status": "completed"
    },
    "tags": []
   },
   "outputs": [],
   "source": [
    "#get a column for every word appearing\n",
    "def toWords(sentence,words,count,mean):\n",
    "    sent = set(sentence.split(\" \"))\n",
    "    for word in sent:\n",
    "        word = word.lower()\n",
    "        word = word.strip(\"/n\")\n",
    "        word = ''.join(e for e in word if e.isalnum())\n",
    "        if word not in words:\n",
    "            words[word] = [1,count,count*mean]\n",
    "        else:\n",
    "            words[word][0] += 1\n",
    "            words[word][1] += count\n",
    "            words[word][2] += count*mean\n",
    "words = {}\n",
    "final_train.apply(lambda x:toWords(x['the_original_sentence'],words,x['the_counts_of_sentences'],x['the_percentage_for_the_sentence_being_more_toxic']), axis=1, result_type='expand')"
   ]
  },
  {
   "cell_type": "code",
   "execution_count": null,
   "id": "ca70bd51",
   "metadata": {
    "execution": {
     "iopub.execute_input": "2022-02-07T21:01:10.404787Z",
     "iopub.status.busy": "2022-02-07T21:01:10.400303Z",
     "iopub.status.idle": "2022-02-07T21:01:11.052284Z",
     "shell.execute_reply": "2022-02-07T21:01:11.051432Z",
     "shell.execute_reply.started": "2022-02-07T20:31:54.071447Z"
    },
    "papermill": {
     "duration": 0.688621,
     "end_time": "2022-02-07T21:01:11.052438",
     "exception": false,
     "start_time": "2022-02-07T21:01:10.363817",
     "status": "completed"
    },
    "tags": []
   },
   "outputs": [],
   "source": [
    "#use only words which appear plenty and seem to be in almost only least or most toxic comments\n",
    "for word in words:\n",
    "    if words[word][0] >= 20 and (words[word][1] / words[word][2] < 0.34 or words[word][1] / words[word][2] > 0.67):\n",
    "        final_train[word] = 0"
   ]
  },
  {
   "cell_type": "code",
   "execution_count": null,
   "id": "240afa5f",
   "metadata": {
    "execution": {
     "iopub.execute_input": "2022-02-07T21:01:11.133329Z",
     "iopub.status.busy": "2022-02-07T21:01:11.132520Z",
     "iopub.status.idle": "2022-02-07T21:01:11.167306Z",
     "shell.execute_reply": "2022-02-07T21:01:11.167777Z",
     "shell.execute_reply.started": "2022-02-07T20:31:54.743016Z"
    },
    "papermill": {
     "duration": 0.078209,
     "end_time": "2022-02-07T21:01:11.167952",
     "exception": false,
     "start_time": "2022-02-07T21:01:11.089743",
     "status": "completed"
    },
    "tags": []
   },
   "outputs": [],
   "source": [
    "final_train"
   ]
  },
  {
   "cell_type": "code",
   "execution_count": null,
   "id": "eb9af8cf",
   "metadata": {
    "execution": {
     "iopub.execute_input": "2022-02-07T21:01:11.431185Z",
     "iopub.status.busy": "2022-02-07T21:01:11.430440Z",
     "iopub.status.idle": "2022-02-07T21:01:11.501664Z",
     "shell.execute_reply": "2022-02-07T21:01:11.502392Z",
     "shell.execute_reply.started": "2022-02-07T20:31:54.865604Z"
    },
    "papermill": {
     "duration": 0.116981,
     "end_time": "2022-02-07T21:01:11.502654",
     "exception": false,
     "start_time": "2022-02-07T21:01:11.385673",
     "status": "completed"
    },
    "tags": []
   },
   "outputs": [],
   "source": [
    "final_train.dropna(inplace=True)\n",
    "final_train"
   ]
  },
  {
   "cell_type": "code",
   "execution_count": null,
   "id": "216032ae",
   "metadata": {
    "execution": {
     "iopub.execute_input": "2022-02-07T21:01:11.576911Z",
     "iopub.status.busy": "2022-02-07T21:01:11.575899Z",
     "iopub.status.idle": "2022-02-07T21:04:40.255447Z",
     "shell.execute_reply": "2022-02-07T21:04:40.255984Z",
     "shell.execute_reply.started": "2022-02-07T20:31:54.938352Z"
    },
    "papermill": {
     "duration": 208.71643,
     "end_time": "2022-02-07T21:04:40.256166",
     "exception": false,
     "start_time": "2022-02-07T21:01:11.539736",
     "status": "completed"
    },
    "tags": []
   },
   "outputs": [],
   "source": [
    "#fill columns about words appearing in the sentence with values of 1\n",
    "def getCounts(sentence):\n",
    "    sent = set(sentence.split(\" \"))\n",
    "    for word in sent:\n",
    "        word = word.lower()\n",
    "        word = word.strip(\"/n\")\n",
    "        word = ''.join(e for e in word if e.isalnum())\n",
    "        if word in final_train.columns:\n",
    "            final_train.loc[final_train.the_original_sentence == sentence,word] = 1\n",
    "final_train.apply(lambda x:getCounts(x['the_original_sentence']), axis=1, result_type='expand')"
   ]
  },
  {
   "cell_type": "code",
   "execution_count": null,
   "id": "df4523e5",
   "metadata": {
    "execution": {
     "iopub.execute_input": "2022-02-07T21:04:40.331154Z",
     "iopub.status.busy": "2022-02-07T21:04:40.328895Z",
     "iopub.status.idle": "2022-02-07T21:04:40.353304Z",
     "shell.execute_reply": "2022-02-07T21:04:40.353830Z",
     "shell.execute_reply.started": "2022-02-07T20:35:26.943487Z"
    },
    "papermill": {
     "duration": 0.064839,
     "end_time": "2022-02-07T21:04:40.354016",
     "exception": false,
     "start_time": "2022-02-07T21:04:40.289177",
     "status": "completed"
    },
    "tags": []
   },
   "outputs": [],
   "source": [
    "final_train"
   ]
  },
  {
   "cell_type": "code",
   "execution_count": null,
   "id": "0810ada4",
   "metadata": {
    "execution": {
     "iopub.execute_input": "2022-02-07T21:04:40.445860Z",
     "iopub.status.busy": "2022-02-07T21:04:40.444931Z",
     "iopub.status.idle": "2022-02-07T21:04:42.082695Z",
     "shell.execute_reply": "2022-02-07T21:04:42.082084Z",
     "shell.execute_reply.started": "2022-02-07T20:35:26.978407Z"
    },
    "papermill": {
     "duration": 1.695071,
     "end_time": "2022-02-07T21:04:42.082868",
     "exception": false,
     "start_time": "2022-02-07T21:04:40.387797",
     "status": "completed"
    },
    "tags": []
   },
   "outputs": [],
   "source": [
    "X_train = final_train.drop(columns=['the_original_sentence','the_counts_of_sentences','the_percentage_for_the_sentence_being_more_toxic'])\n",
    "for i in X_train.columns:\n",
    "    if sum(X_train.i) <= 2 or sum(X_train.i) == len(X_train):\n",
    "        X_train = X_train.drop(columns=[i])\n",
    "y_train = final_train['the_percentage_for_the_sentence_being_more_toxic']"
   ]
  },
  {
   "cell_type": "code",
   "execution_count": null,
   "id": "c143f769",
   "metadata": {
    "execution": {
     "iopub.execute_input": "2022-02-07T21:04:42.297381Z",
     "iopub.status.busy": "2022-02-07T21:04:42.296434Z",
     "iopub.status.idle": "2022-02-07T21:07:41.007479Z",
     "shell.execute_reply": "2022-02-07T21:07:41.008025Z",
     "shell.execute_reply.started": "2022-02-07T20:35:28.748796Z"
    },
    "papermill": {
     "duration": 178.748197,
     "end_time": "2022-02-07T21:07:41.008210",
     "exception": false,
     "start_time": "2022-02-07T21:04:42.260013",
     "status": "completed"
    },
    "tags": []
   },
   "outputs": [],
   "source": [
    "#RandomForestRegressor, found optimized parameters by trying out different values\n",
    "from sklearn.ensemble import RandomForestRegressor\n",
    "model = RandomForestRegressor(n_estimators=10000, max_depth=1000,max_features=\"sqrt\", n_jobs=4, random_state=24)\n",
    "model.fit(X_train, y_train)"
   ]
  },
  {
   "cell_type": "code",
   "execution_count": null,
   "id": "42e4bb2d",
   "metadata": {
    "execution": {
     "iopub.execute_input": "2022-02-07T21:07:41.250102Z",
     "iopub.status.busy": "2022-02-07T21:07:41.249360Z",
     "iopub.status.idle": "2022-02-07T21:07:41.252406Z",
     "shell.execute_reply": "2022-02-07T21:07:41.253007Z",
     "shell.execute_reply.started": "2022-02-07T20:38:45.330565Z"
    },
    "papermill": {
     "duration": 0.042146,
     "end_time": "2022-02-07T21:07:41.253173",
     "exception": false,
     "start_time": "2022-02-07T21:07:41.211027",
     "status": "completed"
    },
    "tags": []
   },
   "outputs": [],
   "source": [
    "#deep neural network made with Tensorflow, used the best performing parameters\n",
    "model = build_and_compile_model(normalizer,'relu')\n",
    "history = model.fit(X_train,y_train,validation_split=0.2,verbose=0, epochs=200)"
   ]
  },
  {
   "cell_type": "code",
   "execution_count": null,
   "id": "54223f39",
   "metadata": {
    "execution": {
     "iopub.execute_input": "2022-02-07T21:07:41.328703Z",
     "iopub.status.busy": "2022-02-07T21:07:41.328059Z",
     "iopub.status.idle": "2022-02-07T21:07:41.330961Z",
     "shell.execute_reply": "2022-02-07T21:07:41.330383Z",
     "shell.execute_reply.started": "2022-02-07T20:38:45.335542Z"
    },
    "papermill": {
     "duration": 0.042849,
     "end_time": "2022-02-07T21:07:41.331119",
     "exception": false,
     "start_time": "2022-02-07T21:07:41.288270",
     "status": "completed"
    },
    "tags": []
   },
   "outputs": [],
   "source": [
    "#same with Ridge and Lasso models\n",
    "from sklearn.linear_model import Ridge\n",
    "from sklearn.linear_model import Lasso\n",
    "ridge_alpha = 100\n",
    "model = Ridge(alpha=ridge_alpha).fit(X_train, y_train)"
   ]
  },
  {
   "cell_type": "code",
   "execution_count": null,
   "id": "e4db1f26",
   "metadata": {
    "execution": {
     "iopub.execute_input": "2022-02-07T21:07:41.406689Z",
     "iopub.status.busy": "2022-02-07T21:07:41.406026Z",
     "iopub.status.idle": "2022-02-07T21:07:41.408525Z",
     "shell.execute_reply": "2022-02-07T21:07:41.407948Z",
     "shell.execute_reply.started": "2022-02-07T20:38:45.350142Z"
    },
    "papermill": {
     "duration": 0.042564,
     "end_time": "2022-02-07T21:07:41.408690",
     "exception": false,
     "start_time": "2022-02-07T21:07:41.366126",
     "status": "completed"
    },
    "tags": []
   },
   "outputs": [],
   "source": [
    "lasso_alpha = 0.001\n",
    "model = Lasso(alpha=lasso_alpha).fit(X_train, y_train)"
   ]
  },
  {
   "cell_type": "code",
   "execution_count": null,
   "id": "b148ade4",
   "metadata": {
    "execution": {
     "iopub.execute_input": "2022-02-07T21:07:41.484338Z",
     "iopub.status.busy": "2022-02-07T21:07:41.483593Z",
     "iopub.status.idle": "2022-02-07T21:07:41.596977Z",
     "shell.execute_reply": "2022-02-07T21:07:41.596346Z",
     "shell.execute_reply.started": "2022-02-07T20:38:45.364082Z"
    },
    "papermill": {
     "duration": 0.152969,
     "end_time": "2022-02-07T21:07:41.597135",
     "exception": false,
     "start_time": "2022-02-07T21:07:41.444166",
     "status": "completed"
    },
    "tags": []
   },
   "outputs": [],
   "source": [
    "subm = pd.read_csv('../input/jigsaw-toxic-severity-rating/comments_to_score.csv') "
   ]
  },
  {
   "cell_type": "code",
   "execution_count": null,
   "id": "47d5f3bb",
   "metadata": {
    "execution": {
     "iopub.execute_input": "2022-02-07T21:07:41.673429Z",
     "iopub.status.busy": "2022-02-07T21:07:41.672352Z",
     "iopub.status.idle": "2022-02-07T21:07:42.273273Z",
     "shell.execute_reply": "2022-02-07T21:07:42.272708Z",
     "shell.execute_reply.started": "2022-02-07T20:39:05.492643Z"
    },
    "papermill": {
     "duration": 0.639481,
     "end_time": "2022-02-07T21:07:42.273417",
     "exception": false,
     "start_time": "2022-02-07T21:07:41.633936",
     "status": "completed"
    },
    "tags": []
   },
   "outputs": [],
   "source": [
    "subm.rename(columns={'text':'the_original_sentence'},inplace=True)\n",
    "for i in X_train.columns:\n",
    "    subm[i] = 0"
   ]
  },
  {
   "cell_type": "code",
   "execution_count": null,
   "id": "7d497da6",
   "metadata": {
    "execution": {
     "iopub.execute_input": "2022-02-07T21:07:42.467481Z",
     "iopub.status.busy": "2022-02-07T21:07:42.466824Z",
     "iopub.status.idle": "2022-02-07T21:15:12.422796Z",
     "shell.execute_reply": "2022-02-07T21:15:12.423340Z",
     "shell.execute_reply.started": "2022-02-07T20:39:06.150098Z"
    },
    "papermill": {
     "duration": 450.002585,
     "end_time": "2022-02-07T21:15:12.423526",
     "exception": false,
     "start_time": "2022-02-07T21:07:42.420941",
     "status": "completed"
    },
    "tags": []
   },
   "outputs": [],
   "source": [
    "#fill the test set similarly as the training one\n",
    "def getCounts2(sentence):\n",
    "    sent = set(sentence.split(\" \"))\n",
    "    for word in sent:\n",
    "        word = word.lower()\n",
    "        word = word.strip(\"/n\")\n",
    "        word = ''.join(e for e in word if e.isalnum())\n",
    "        if word in final_train.columns:\n",
    "            subm.loc[subm.the_original_sentence == sentence,word] = 1\n",
    "subm.apply(lambda x:getCounts2(x['the_original_sentence']), axis=1, result_type='expand')"
   ]
  },
  {
   "cell_type": "code",
   "execution_count": null,
   "id": "6b5193f9",
   "metadata": {
    "execution": {
     "iopub.execute_input": "2022-02-07T21:15:12.527729Z",
     "iopub.status.busy": "2022-02-07T21:15:12.502655Z",
     "iopub.status.idle": "2022-02-07T21:15:12.530361Z",
     "shell.execute_reply": "2022-02-07T21:15:12.529869Z",
     "shell.execute_reply.started": "2022-02-07T20:47:00.854238Z"
    },
    "papermill": {
     "duration": 0.069783,
     "end_time": "2022-02-07T21:15:12.530504",
     "exception": false,
     "start_time": "2022-02-07T21:15:12.460721",
     "status": "completed"
    },
    "tags": []
   },
   "outputs": [],
   "source": [
    "X_test = subm.drop(columns=['the_original_sentence','comment_id'])"
   ]
  },
  {
   "cell_type": "code",
   "execution_count": null,
   "id": "61412997",
   "metadata": {
    "execution": {
     "iopub.execute_input": "2022-02-07T21:15:12.626792Z",
     "iopub.status.busy": "2022-02-07T21:15:12.626114Z",
     "iopub.status.idle": "2022-02-07T21:15:29.844560Z",
     "shell.execute_reply": "2022-02-07T21:15:29.845461Z",
     "shell.execute_reply.started": "2022-02-07T20:54:50.200755Z"
    },
    "papermill": {
     "duration": 17.27719,
     "end_time": "2022-02-07T21:15:29.845699",
     "exception": false,
     "start_time": "2022-02-07T21:15:12.568509",
     "status": "completed"
    },
    "tags": []
   },
   "outputs": [],
   "source": [
    "#RFR performed the best on the validation set, so it predicts values\n",
    "#score on the private set was 0.726\n",
    "model = RandomForestRegressor(n_estimators=10000, max_depth=1000,max_features=\"sqrt\", n_jobs=4, random_state=24)\n",
    "model.fit(X_train, y_train)\n",
    "y_prob = model.predict(X_test)\n",
    "y_prob = y_prob - min(y_prob) / max(y_prob) - min(y_prob)\n",
    "y_prob = abs(y_prob) + 0.001\n",
    "df = pd.DataFrame({'comment_id':subm['comment_id'],'score':y_prob.squeeze()})\n",
    "df.to_csv('submission.csv',index=False)"
   ]
  }
 ],
 "metadata": {
  "kernelspec": {
   "display_name": "Python 3",
   "language": "python",
   "name": "python3"
  },
  "language_info": {
   "codemirror_mode": {
    "name": "ipython",
    "version": 3
   },
   "file_extension": ".py",
   "mimetype": "text/x-python",
   "name": "python",
   "nbconvert_exporter": "python",
   "pygments_lexer": "ipython3",
   "version": "3.8.8"
  },
  "papermill": {
   "default_parameters": {},
   "duration": 1023.220052,
   "end_time": "2022-02-07T21:15:30.797307",
   "environment_variables": {},
   "exception": null,
   "input_path": "__notebook__.ipynb",
   "output_path": "__notebook__.ipynb",
   "parameters": {},
   "start_time": "2022-02-07T20:58:27.577255",
   "version": "2.3.3"
  }
 },
 "nbformat": 4,
 "nbformat_minor": 5
}
